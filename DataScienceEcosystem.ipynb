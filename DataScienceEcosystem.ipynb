{
 "cells": [
  {
   "cell_type": "markdown",
   "id": "720ef451-b743-4a28-9d6c-50febdbe54c4",
   "metadata": {},
   "source": [
    "<h1>Data Science tools and Ecosystem"
   ]
  },
  {
   "cell_type": "markdown",
   "id": "9053fd24-095f-4c24-98db-bf38d550840b",
   "metadata": {},
   "source": [
    "<p>In this notebook, Data Science Tools and Ecosystem are summarized.</p>"
   ]
  },
  {
   "cell_type": "markdown",
   "id": "43bba4ca-ed3e-413c-aa57-ab33a9378d1b",
   "metadata": {},
   "source": [
    "<p>Some of the popular languages that Data Scientists use are:<p/>\n",
    "<ol><li>Python</li>\n",
    "    <li>R</li>\n",
    "    <li>SQl</li></ol>"
   ]
  },
  {
   "cell_type": "markdown",
   "id": "38acdf0b-ab8d-43ee-ac1b-d1c6f8e9e6e5",
   "metadata": {},
   "source": [
    "<p>Some of the popular languages that Data Scientists use are:<p/>\n",
    "<ol><li>Panda</li>\n",
    "    <li>Numpy</li>\n",
    "    <li>Keras</li></ol>"
   ]
  },
  {
   "cell_type": "markdown",
   "id": "55a3c3cf-502b-41fd-9fba-8af35b89e27f",
   "metadata": {},
   "source": [
    "| Data Science Tools |\n",
    "| --- |\n",
    "| Matlab |\n",
    "| Excel  |\n",
    "| Tableau|"
   ]
  },
  {
   "cell_type": "markdown",
   "id": "fd3338e7-7556-4e62-83ca-4d19a279c98b",
   "metadata": {},
   "source": [
    "<h3>Below are a few examples of evaluating arithmetic expressions in Python</h3>"
   ]
  },
  {
   "cell_type": "code",
   "execution_count": 2,
   "id": "f0365029-745d-4427-8657-f1a93dab6d3b",
   "metadata": {},
   "outputs": [
    {
     "data": {
      "text/plain": [
       "17"
      ]
     },
     "execution_count": 2,
     "metadata": {},
     "output_type": "execute_result"
    }
   ],
   "source": [
    "(3*4)+5\n",
    "#This a simple arithmetic expression to mutiply then add integers\n"
   ]
  },
  {
   "cell_type": "code",
   "execution_count": 4,
   "id": "a09590d1-ad03-46e5-b92e-20daee7653d8",
   "metadata": {},
   "outputs": [
    {
     "data": {
      "text/plain": [
       "3.3333333333333335"
      ]
     },
     "execution_count": 4,
     "metadata": {},
     "output_type": "execute_result"
    }
   ],
   "source": [
    "200/60\n",
    "#This will convert 200 minutes to hours by diving by 60"
   ]
  },
  {
   "cell_type": "markdown",
   "id": "a2aa52ab-340a-48a5-93c2-764112b0509c",
   "metadata": {},
   "source": [
    "**Objectives:**\n",
    "<p>List popular languages for Data Science</p>\n",
    "<li>python</li>\n",
    "<li>R</li>\n",
    "<li>SQL</li>"
   ]
  },
  {
   "cell_type": "markdown",
   "id": "c8cc1724-2ff5-4b5d-a790-95ff13e9c1fc",
   "metadata": {},
   "source": [
    "<h2>Author</h2>\n",
    "<p>Muhammad Taha Shayan</p>"
   ]
  }
 ],
 "metadata": {
  "kernelspec": {
   "display_name": "Python",
   "language": "python",
   "name": "conda-env-python-py"
  },
  "language_info": {
   "codemirror_mode": {
    "name": "ipython",
    "version": 3
   },
   "file_extension": ".py",
   "mimetype": "text/x-python",
   "name": "python",
   "nbconvert_exporter": "python",
   "pygments_lexer": "ipython3",
   "version": "3.7.12"
  }
 },
 "nbformat": 4,
 "nbformat_minor": 5
}
